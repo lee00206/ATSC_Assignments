{
 "cells": [
  {
   "cell_type": "markdown",
   "metadata": {
    "toc": true
   },
   "source": [
    "<h1>Table of Contents<span class=\"tocSkip\"></span></h1>\n",
    "<div class=\"toc\"><ul class=\"toc-item\"><li><span><a href=\"#Stull-problem-8-A.10\" data-toc-modified-id=\"Stull-problem-8-A.10-1\"><span class=\"toc-item-num\">1&nbsp;&nbsp;</span>Stull problem 8-A.10</a></span><ul class=\"toc-item\"><li><span><a href=\"#my-test-for-a10\" data-toc-modified-id=\"my-test-for-a10-1.1\"><span class=\"toc-item-num\">1.1&nbsp;&nbsp;</span>my test for a10</a></span></li></ul></li><li><span><a href=\"#Stull-problem-8-A.12\" data-toc-modified-id=\"Stull-problem-8-A.12-2\"><span class=\"toc-item-num\">2&nbsp;&nbsp;</span>Stull problem 8-A.12</a></span><ul class=\"toc-item\"><li><span><a href=\"#my-test-for-a12\" data-toc-modified-id=\"my-test-for-a12-2.1\"><span class=\"toc-item-num\">2.1&nbsp;&nbsp;</span>my test for a12</a></span></li></ul></li></ul></div>"
   ]
  },
  {
   "cell_type": "markdown",
   "metadata": {
    "deletable": false,
    "editable": false,
    "nbgrader": {
     "cell_type": "markdown",
     "checksum": "895832b6cfc230f566fb08ccf312789e",
     "grade": false,
     "grade_id": "cell-7b0f2ffc0a3061f1",
     "locked": true,
     "schema_version": 2,
     "solution": false
    }
   },
   "source": [
    "# Stull problem 8-A.10"
   ]
  },
  {
   "cell_type": "markdown",
   "metadata": {},
   "source": [
    "Chapter 8-A10. Write a python function to find the beamwidth angle in degrees for a radar pulse\n",
    "for the following sets of \n",
    "[wavelength (cm) , antenna\n",
    "dish diameter (m)]:\n",
    "        \n",
    "a. [ 20, 8] b. [20, 10] c. [10, 10] d. [10, 5] e. [10, 3]\n",
    "f. [5, 7] g. [5, 5] h. [5, 2] i. [5, 3] j. [3, 1]"
   ]
  },
  {
   "cell_type": "code",
   "execution_count": null,
   "metadata": {
    "deletable": false,
    "nbgrader": {
     "cell_type": "code",
     "checksum": "47610de56713cd7aef5ae5bfe1897477",
     "grade": false,
     "grade_id": "cell-76c7d3f2f1ade0a7",
     "locked": false,
     "schema_version": 2,
     "solution": true
    }
   },
   "outputs": [],
   "source": [
    "import numpy as np\n",
    "import pytest\n",
    "import json\n",
    "from pathlib import Path\n",
    "\n",
    "def find_beamwidth(the_wavel,dish_size):\n",
    "    \"\"\"\n",
    "    find the beamwidth using Stulll eq. 8.13\n",
    "    \n",
    "    Parameters\n",
    "    ----------\n",
    "    \n",
    "    the_wavel : wavelength (float)\n",
    "       units (cm)\n",
    "            \n",
    "    dish_size : antenna dish diameter (float)\n",
    "       units (m)\n",
    "       \n",
    "    Returns\n",
    "    -------\n",
    "    \n",
    "    beamwidth : beamwidth angle  \n",
    "       units (degrees)\n",
    "    \"\"\"\n",
    "    #\n",
    "    # Stull eq. 8.13\n",
    "    #\n",
    "    # YOUR CODE HERE\n",
    "    raise NotImplementedError()"
   ]
  },
  {
   "cell_type": "markdown",
   "metadata": {
    "deletable": false,
    "editable": false,
    "nbgrader": {
     "cell_type": "markdown",
     "checksum": "e2210d3219da69b6eaa6de00dcdcb254",
     "grade": false,
     "grade_id": "cell-bbfa0360fbedc7a9",
     "locked": true,
     "schema_version": 2,
     "solution": false
    }
   },
   "source": [
    "## my test for a10"
   ]
  },
  {
   "cell_type": "code",
   "execution_count": null,
   "metadata": {
    "deletable": false,
    "editable": false,
    "nbgrader": {
     "cell_type": "code",
     "checksum": "b325d081ec1cf53fcfb189ecd9604c75",
     "grade": true,
     "grade_id": "cell-fd6801804d7e081b",
     "locked": true,
     "points": 4,
     "schema_version": 2,
     "solution": false
    }
   },
   "outputs": [],
   "source": [
    "the_wavel=[20,20,10,10,10,5,5,5,5,3]  #wavelength (cm)\n",
    "dish_size=[8,10,10,5,3,7,5,2,3,1]   #dishsize (meters)\n",
    "input_vals=list(zip(the_wavel,dish_size))\n",
    "assert(len(input_vals)==10)\n",
    "beamwidth=[find_beamwidth(wavel,dish_size) for wavel,dish_size in input_vals]\n",
    "#\n",
    "# test the beamwidth values\n",
    "#\n",
    "answer_file='ch8_a10_answer.json'\n",
    "if Path(answer_file).is_file():\n",
    "    with open(answer_file,'r') as f:\n",
    "        answer=json.load(f)\n",
    "    np.testing.assert_array_almost_equal(beamwidth,answer,decimal=3)"
   ]
  },
  {
   "cell_type": "markdown",
   "metadata": {
    "deletable": false,
    "editable": false,
    "nbgrader": {
     "cell_type": "markdown",
     "checksum": "f36b5898f7abf364e53bb1051da67af1",
     "grade": false,
     "grade_id": "cell-d2fb5ebb35e01adc",
     "locked": true,
     "schema_version": 2,
     "solution": false
    }
   },
   "source": [
    "# Stull problem 8-A.12\n",
    "\n",
    "Write a python function to find the range to a radar target, given the\n",
    "round-trip (return) travel times (µs) of:\n",
    "\n",
    "a. 2 b. 5 c. 10 d. 25 e. 50\n",
    "f. 75 g. 100 h. 150 i. 200 j. 300"
   ]
  },
  {
   "cell_type": "code",
   "execution_count": null,
   "metadata": {
    "deletable": false,
    "nbgrader": {
     "cell_type": "code",
     "checksum": "219c6f3d2faccba6ef83fbf664329f6e",
     "grade": false,
     "grade_id": "cell-8bce491044638790",
     "locked": false,
     "schema_version": 2,
     "solution": true
    }
   },
   "outputs": [],
   "source": [
    "def find_range(delT):\n",
    "    \"\"\"\n",
    "    tind the range to radar using Stull eq. 8.16\n",
    "    \n",
    "    Parameters\n",
    "    ----------\n",
    "    \n",
    "    delT: float\n",
    "       the round-trip travel times (units: micro sec)\n",
    "       \n",
    "    Returns\n",
    "    -------\n",
    "    \n",
    "    radar_range: float\n",
    "       range from target to radar (units: km)\n",
    "    \"\"\"\n",
    "    \n",
    "    # YOUR CODE HERE\n",
    "    raise NotImplementedError()"
   ]
  },
  {
   "cell_type": "markdown",
   "metadata": {
    "deletable": false,
    "editable": false,
    "nbgrader": {
     "cell_type": "markdown",
     "checksum": "fced10d797710b9a602747254cae4c17",
     "grade": false,
     "grade_id": "cell-90a630c20a3252e5",
     "locked": true,
     "schema_version": 2,
     "solution": false
    }
   },
   "source": [
    "## my test for a12"
   ]
  },
  {
   "cell_type": "code",
   "execution_count": null,
   "metadata": {
    "deletable": false,
    "editable": false,
    "nbgrader": {
     "cell_type": "code",
     "checksum": "f6408a71822220e4a6bfdb7ca4bb31c4",
     "grade": true,
     "grade_id": "cell-1fcb43fed3abde1d",
     "locked": true,
     "points": 4,
     "schema_version": 2,
     "solution": false
    }
   },
   "outputs": [],
   "source": [
    "import json\n",
    "times=[2,5,10,25,50,75,100,150,200,300]  #microseconds\n",
    "the_range=[find_range(delT) for delT in times]\n",
    "assert(len(times) == 10)\n",
    "answer_file='ch8_a12_answer.json'\n",
    "if Path(answer_file).is_file():\n",
    "    with open(answer_file,'r') as f:\n",
    "        answer=json.load(f)\n",
    "    np.testing.assert_array_almost_equal(the_range,answer,decimal=1)"
   ]
  },
  {
   "cell_type": "code",
   "execution_count": null,
   "metadata": {},
   "outputs": [],
   "source": []
  }
 ],
 "metadata": {
  "kernelspec": {
   "display_name": "Python 3",
   "language": "python",
   "name": "python3"
  },
  "language_info": {
   "codemirror_mode": {
    "name": "ipython",
    "version": 3
   },
   "file_extension": ".py",
   "mimetype": "text/x-python",
   "name": "python",
   "nbconvert_exporter": "python",
   "pygments_lexer": "ipython3",
   "version": "3.6.6"
  },
  "toc": {
   "base_numbering": 1,
   "nav_menu": {},
   "number_sections": true,
   "sideBar": false,
   "skip_h1_title": false,
   "title_cell": "Table of Contents",
   "title_sidebar": "Contents",
   "toc_cell": true,
   "toc_position": {},
   "toc_section_display": true,
   "toc_window_display": false
  }
 },
 "nbformat": 4,
 "nbformat_minor": 2
}
