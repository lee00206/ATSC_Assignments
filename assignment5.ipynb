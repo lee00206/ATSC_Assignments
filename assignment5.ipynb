{
 "cells": [
  {
   "cell_type": "markdown",
   "metadata": {
    "toc": true
   },
   "source": [
    "<h1>Table of Contents<span class=\"tocSkip\"></span></h1>\n",
    "<div class=\"toc\"><ul class=\"toc-item\"><li><span><a href=\"#Use-pyresample-to-plot-channel-30-Tbright\" data-toc-modified-id=\"Use-pyresample-to-plot-channel-30-Tbright-1\"><span class=\"toc-item-num\">1&nbsp;&nbsp;</span>Use pyresample to plot channel 30 Tbright</a></span></li><li><span><a href=\"#Copy-your-working-files-into-the-generic-files\" data-toc-modified-id=\"Copy-your-working-files-into-the-generic-files-2\"><span class=\"toc-item-num\">2&nbsp;&nbsp;</span>Copy your working files into the generic files</a></span></li><li><span><a href=\"#Calculate-chan-30-brightness-temperature\" data-toc-modified-id=\"Calculate-chan-30-brightness-temperature-3\"><span class=\"toc-item-num\">3&nbsp;&nbsp;</span>Calculate chan 30 brightness temperature</a></span></li><li><span><a href=\"#resample-the-brightness-temperatures\" data-toc-modified-id=\"resample-the-brightness-temperatures-4\"><span class=\"toc-item-num\">4&nbsp;&nbsp;</span>resample the brightness temperatures</a></span></li><li><span><a href=\"#replace-missing-values-with-floating-point-nan\" data-toc-modified-id=\"replace-missing-values-with-floating-point-nan-5\"><span class=\"toc-item-num\">5&nbsp;&nbsp;</span>replace missing values with floating point nan</a></span></li><li><span><a href=\"#Plot-the-image-using-cartopy\" data-toc-modified-id=\"Plot-the-image-using-cartopy-6\"><span class=\"toc-item-num\">6&nbsp;&nbsp;</span>Plot the image using cartopy</a></span></li></ul></div>"
   ]
  },
  {
   "cell_type": "markdown",
   "metadata": {},
   "source": [
    "# Use pyresample to plot channel 30 Tbright\n",
    "\n",
    "This notebook uses a MYD03 file and a modis_chans.hdf file to resample the channel 30 radiance\n",
    "from your granule onto a laea projection.\n",
    "\n",
    "I've deleted two cells below (sections 5 and 6).  Using the cartopy_resample_ch30.ipynb and\n",
    "the assign4_solution.ipynb notebooks as guides, fill those cells in with the code that plots the channel 30 brightness temperature for your granule.\n",
    "\n"
   ]
  },
  {
   "cell_type": "code",
   "execution_count": null,
   "metadata": {},
   "outputs": [],
   "source": [
    "import a301\n",
    "import json\n",
    "from a301.utils.data_read import download\n",
    "import a301\n",
    "import pprint\n",
    "import shutil\n",
    "from pyhdf.SD import SD, SDC\n",
    "import json\n",
    "from pyresample import kd_tree\n",
    "from a301.scripts.modismeta_read import parseMeta\n",
    "\n"
   ]
  },
  {
   "cell_type": "code",
   "execution_count": null,
   "metadata": {},
   "outputs": [],
   "source": [
    "import cartopy.crs as ccrs\n",
    "import matplotlib.pyplot as plt\n",
    "import cartopy\n",
    "from pathlib import Path\n",
    "import pprint\n",
    "import numpy as np\n",
    "import pdb\n",
    "import shutil\n",
    "import sys\n",
    "#"
   ]
  },
  {
   "cell_type": "markdown",
   "metadata": {},
   "source": [
    "First run the modis_multichannel.ipynb notebook for your granule and get a\n",
    "calibrated ch30,ch31 radiance file out.  Copy tha file into your a301_code/data directory.\n",
    "\n"
   ]
  },
  {
   "cell_type": "markdown",
   "metadata": {},
   "source": [
    "# Copy your working files into the generic files\n",
    "\n",
    "I've wrapped the cell below in a \"try/except\" block so that you can run it to\n",
    "copy your own files into the generic files, but the notebook will also run on\n",
    "my computer, which will only have my own generic files to test with.\n",
    "\n",
    "By catching the general exception called Exception, I make this cell succeed\n",
    "regardless of error.\n",
    "\n"
   ]
  },
  {
   "cell_type": "code",
   "execution_count": null,
   "metadata": {},
   "outputs": [],
   "source": [
    "try:\n",
    "    #\n",
    "    # this cell copies your files to the following generic files if they don't exist\n",
    "    #\n",
    "    generic_rad = a301.data_dir / Path('rad_file_2018_10_1.hdf')\n",
    "    generic_m3 = a301.data_dir / Path('m3_file_2018_10_1.hdf')\n",
    "    #\n",
    "    # put your MYD03 file and you modis radiance file names here instead of my files\n",
    "    #\n",
    "    m3_file = a301.data_dir / Path('MYD03.A2013222.2105.006.2013223155808.hdf')\n",
    "    rad_file = a301.data_dir / Path('modis_chans_2018_9_24.hdf')\n",
    "    #\n",
    "    # do the copies  (could also do this by hand)\n",
    "    #\n",
    "    shutil.copy(m3_file,generic_m3)\n",
    "    shutil.copy(rad_file,generic_rad)\n",
    "    #\n",
    "    # test to make sure we have the right files\n",
    "    #\n",
    "    rad_file = SD(str(generic_rad), SDC.READ)\n",
    "    rad_filename = rad_file.filename\n",
    "    rad_file.end()\n",
    "    print(f\"\\nworking with radiance file {generic_rad}\\n\"\n",
    "          f\"with original data {rad_filename}\\n\")\n",
    "    m3_metadata=parseMeta(generic_m3)\n",
    "    print(f\"\\nworking with m3_file {generic_m3} \\n\"\n",
    "          f\"with original data {m3_metadata['filename']}\")\n",
    "except Exception as ex:\n",
    "    ex_type, ex_val, tb = sys.exc_info()\n",
    "    print(f'caught {ex_type}, {ex_val} but ignoring it')\n"
   ]
  },
  {
   "cell_type": "code",
   "execution_count": null,
   "metadata": {},
   "outputs": [],
   "source": [
    "# Read the lats and lons from the MYD03 file\n",
    "generic_rad = a301.data_dir / Path('rad_file_2018_10_1.hdf')\n",
    "generic_m3 = a301.data_dir / Path('m3_file_2018_10_1.hdf')\n",
    "print(f'reading {generic_m3}')\n",
    "m3_file = SD(str(generic_m3), SDC.READ)\n",
    "lats = m3_file.select('Latitude').get()\n",
    "lons = m3_file.select('Longitude').get()\n",
    "m3_file.end()"
   ]
  },
  {
   "cell_type": "code",
   "execution_count": null,
   "metadata": {},
   "outputs": [],
   "source": [
    "#Read ch30 from the generic_rad file\n",
    "rad_file = SD(str(generic_rad), SDC.READ)\n",
    "ch30 = rad_file.select('ch30').get()\n",
    "rad_file.end()"
   ]
  },
  {
   "cell_type": "markdown",
   "metadata": {},
   "source": [
    "# Calculate chan 30 brightness temperature\n",
    "\n",
    "copy code from the assignment4 solution using planck_invert for channel 30"
   ]
  },
  {
   "cell_type": "code",
   "execution_count": null,
   "metadata": {
    "deletable": false,
    "nbgrader": {
     "cell_type": "code",
     "checksum": "870c05cbc36f7de22376c9837e8babc0",
     "grade": true,
     "grade_id": "cell-220fd5589f554e61",
     "locked": false,
     "points": 3,
     "schema_version": 2,
     "solution": true
    }
   },
   "outputs": [],
   "source": [
    "# YOUR CODE HERE\n",
    "raise NotImplementedError()"
   ]
  },
  {
   "cell_type": "markdown",
   "metadata": {},
   "source": [
    "# resample the brightness temperatures\n",
    "\n",
    "now put the brightness temperatures on the grid following cartopy_resample_ch30.ipynb\n",
    "\n",
    "\n",
    "Note that you don't need to be exact about your center lat/lon points\n",
    "below -- just get them within a degree or so."
   ]
  },
  {
   "cell_type": "code",
   "execution_count": null,
   "metadata": {},
   "outputs": [],
   "source": [
    "proj4_params = {'datum': 'WGS84',\n",
    "                  'ellps': 'WGS84',\n",
    "                  'lat_0': \"your center lat here\",\n",
    "                  'lon_0': \"your center lon here\",\n",
    "                  'proj': 'laea',\n",
    "                  'x_0': 0.0,\n",
    "                  'y_0': 0.0}"
   ]
  },
  {
   "cell_type": "code",
   "execution_count": null,
   "metadata": {
    "deletable": false,
    "nbgrader": {
     "cell_type": "code",
     "checksum": "f0e2eb918ac06a1db888c32ea334718e",
     "grade": true,
     "grade_id": "cell-f18cfcc66b43158d",
     "locked": false,
     "points": 3,
     "schema_version": 2,
     "solution": true
    }
   },
   "outputs": [],
   "source": [
    "# YOUR CODE HERE\n",
    "raise NotImplementedError()"
   ]
  },
  {
   "cell_type": "markdown",
   "metadata": {},
   "source": [
    "# replace missing values with floating point nan"
   ]
  },
  {
   "cell_type": "code",
   "execution_count": null,
   "metadata": {},
   "outputs": [],
   "source": [
    "nan_value = np.array([np.nan],dtype=np.float32)[0]\n",
    "image_30[image_30< -9000]=nan_value"
   ]
  },
  {
   "cell_type": "markdown",
   "metadata": {},
   "source": [
    "# Plot the image using cartopy"
   ]
  },
  {
   "cell_type": "code",
   "execution_count": null,
   "metadata": {},
   "outputs": [],
   "source": [
    "crs = area_def.to_cartopy_crs()\n",
    "fig, ax = plt.subplots(1, 1, figsize=(10,10),\n",
    "                          subplot_kw={'projection': crs})\n",
    "ax.gridlines(linewidth=2)\n",
    "ax.add_feature(cartopy.feature.GSHHSFeature(scale='coarse', levels=[1,2,3]));\n",
    "ax.set_extent(crs.bounds,crs)\n",
    "cs=ax.imshow(image_30, transform=crs, extent=crs.bounds, origin='upper',alpha=0.8)\n",
    "fig.colorbar(cs);"
   ]
  },
  {
   "cell_type": "code",
   "execution_count": null,
   "metadata": {},
   "outputs": [],
   "source": []
  }
 ],
 "metadata": {
  "hide_input": false,
  "kernelspec": {
   "display_name": "Python 3",
   "language": "python",
   "name": "python3"
  },
  "language_info": {
   "codemirror_mode": {
    "name": "ipython",
    "version": 3
   },
   "file_extension": ".py",
   "mimetype": "text/x-python",
   "name": "python",
   "nbconvert_exporter": "python",
   "pygments_lexer": "ipython3",
   "version": "3.6.6"
  },
  "toc": {
   "base_numbering": 1,
   "nav_menu": {},
   "number_sections": true,
   "sideBar": false,
   "skip_h1_title": false,
   "title_cell": "Table of Contents",
   "title_sidebar": "Contents",
   "toc_cell": true,
   "toc_position": {},
   "toc_section_display": true,
   "toc_window_display": false
  }
 },
 "nbformat": 4,
 "nbformat_minor": 2
}
