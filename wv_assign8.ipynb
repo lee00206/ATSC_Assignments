{
 "cells": [
  {
   "cell_type": "markdown",
   "metadata": {
    "toc": true
   },
   "source": [
    "<h1>Table of Contents<span class=\"tocSkip\"></span></h1>\n",
    "<div class=\"toc\"><ul class=\"toc-item\"><li><span><a href=\"#Introduction\" data-toc-modified-id=\"Introduction-1\"><span class=\"toc-item-num\">1&nbsp;&nbsp;</span>Introduction</a></span></li><li><span><a href=\"#Setup\" data-toc-modified-id=\"Setup-2\"><span class=\"toc-item-num\">2&nbsp;&nbsp;</span>Setup</a></span></li><li><span><a href=\"#Read-in-the-5-km-nearir-and-ir-water-vapor-images\" data-toc-modified-id=\"Read-in-the-5-km-nearir-and-ir-water-vapor-images-3\"><span class=\"toc-item-num\">3&nbsp;&nbsp;</span>Read in the 5 km nearir and ir water vapor images</a></span><ul class=\"toc-item\"><li><ul class=\"toc-item\"><li><span><a href=\"#Here-is-wv_ir\" data-toc-modified-id=\"Here-is-wv_ir-3.0.1\"><span class=\"toc-item-num\">3.0.1&nbsp;&nbsp;</span>Here is wv_ir</a></span></li><li><span><a href=\"#Here-is-wv_nearir_ir-mapped-to-the-low-resolution-area_def\" data-toc-modified-id=\"Here-is-wv_nearir_ir-mapped-to-the-low-resolution-area_def-3.0.2\"><span class=\"toc-item-num\">3.0.2&nbsp;&nbsp;</span>Here is wv_nearir_ir mapped to the low resolution area_def</a></span></li></ul></li></ul></li><li><span><a href=\"#Questions\" data-toc-modified-id=\"Questions-4\"><span class=\"toc-item-num\">4&nbsp;&nbsp;</span>Questions</a></span><ul class=\"toc-item\"><li><span><a href=\"#Question-9.1\" data-toc-modified-id=\"Question-9.1-4.1\"><span class=\"toc-item-num\">4.1&nbsp;&nbsp;</span>Question 9.1</a></span></li><li><span><a href=\"#Question-9.2\" data-toc-modified-id=\"Question-9.2-4.2\"><span class=\"toc-item-num\">4.2&nbsp;&nbsp;</span>Question 9.2</a></span><ul class=\"toc-item\"><li><span><a href=\"#Here-is-the-test-that-autograder-will-run\" data-toc-modified-id=\"Here-is-the-test-that-autograder-will-run-4.2.1\"><span class=\"toc-item-num\">4.2.1&nbsp;&nbsp;</span>Here is the test that autograder will run</a></span></li></ul></li></ul></li></ul></div>"
   ]
  },
  {
   "cell_type": "markdown",
   "metadata": {},
   "source": [
    "# Introduction\n",
    "\n",
    "This assignment uses the functions and files defined in level2_cartopy_plot to look\n",
    "at the difference between wv_ir and wv_nearir mapped onto the low resolution\n",
    "grid.\n",
    "\n",
    "# Setup\n",
    "\n",
    "1. Understand  and run level2_cartopy_plot\n",
    "\n",
    "1. Setup should be the same, rerun test to check\n",
    "\n",
    "```\n",
    "      python -m a301.install_tests.assign8_test\n",
    "```\n"
   ]
  },
  {
   "cell_type": "code",
   "execution_count": null,
   "metadata": {},
   "outputs": [],
   "source": [
    "from matplotlib import cm\n",
    "\n",
    "import numpy as np\n",
    "from matplotlib import pyplot as plt\n",
    "from matplotlib.colors import Normalize\n",
    "from IPython.display import Image,display\n",
    "from pyresample import geometry\n",
    "import pdb\n",
    "\n",
    "#Image('figures/MYBRGB.A2016224.2100.006.2016237025650.jpg',width=600)"
   ]
  },
  {
   "cell_type": "code",
   "execution_count": null,
   "metadata": {},
   "outputs": [],
   "source": [
    "%matplotlib inline\n",
    "from matplotlib import cm\n",
    "from a301.scripts.modismeta_read import parseMeta\n",
    "import numpy as np\n",
    "from matplotlib import pyplot as plt\n",
    "from matplotlib.colors import Normalize\n",
    "from IPython.display import Image,display\n",
    "import a301\n",
    "from pathlib import Path\n",
    "from pyhdf.SD import SD, SDC\n",
    "import pprint\n",
    "import json\n",
    "from a301.geometry import area_def_from_dict, get_image, plot_image"
   ]
  },
  {
   "cell_type": "markdown",
   "metadata": {},
   "source": [
    "# Read in the 5 km nearir and ir water vapor images\n",
    "\n",
    "\n",
    "use get_image and plot_image from the library"
   ]
  },
  {
   "cell_type": "markdown",
   "metadata": {},
   "source": [
    "### Here is wv_ir"
   ]
  },
  {
   "cell_type": "code",
   "execution_count": null,
   "metadata": {},
   "outputs": [],
   "source": [
    "foldername=a301.map_dir / Path('wv_maps')\n",
    "image_wv_ir, area_def_lr = get_image(foldername, 'wv_ir')"
   ]
  },
  {
   "cell_type": "code",
   "execution_count": null,
   "metadata": {},
   "outputs": [],
   "source": [
    "fig,ax=plot_image(image_wv_ir, area_def_lr)\n",
    "ax.set_title('5 km IR water vapor (cm)');"
   ]
  },
  {
   "cell_type": "markdown",
   "metadata": {},
   "source": [
    "### Here is wv_nearir_ir mapped to the low resolution area_def"
   ]
  },
  {
   "cell_type": "code",
   "execution_count": null,
   "metadata": {},
   "outputs": [],
   "source": [
    "image_wv_nearir_lr, area_def_hr = get_image(foldername, 'wv_nearir_lr')\n",
    "fig,ax=plot_image(image_wv_nearir_lr, area_def_hr)\n",
    "ax.set_title('1 km IR water vapor (cm) at 5k low resolution (lr)');\n",
    "print(image_wv_nearir_lr.shape)"
   ]
  },
  {
   "cell_type": "markdown",
   "metadata": {},
   "source": [
    "# Questions"
   ]
  },
  {
   "cell_type": "markdown",
   "metadata": {},
   "source": [
    "## Question 9.1\n",
    "\n",
    "in the cell below calculate the difference between the nearir_ir and wv_ir\n",
    "images as a new variable called wv_difference and plot\n",
    "it using plot_image\n",
    "\n",
    "Use a diverging palette like RdYlBu (see [matplotlib palettes](https://matplotlib.org/tutorials/colors/colormaps.html))\n",
    "to highlight the areas where the difference is zero and show postiive and negative departures.\n",
    "Set your vmin, vmax to -1, 1  cm."
   ]
  },
  {
   "cell_type": "code",
   "execution_count": null,
   "metadata": {
    "deletable": false,
    "nbgrader": {
     "cell_type": "code",
     "checksum": "17fc4e7b6ad60fc40e32f8107a625bdf",
     "grade": true,
     "grade_id": "cell-5b1d6dc0e1f43e2e",
     "locked": false,
     "points": 2,
     "schema_version": 2,
     "solution": true
    }
   },
   "outputs": [],
   "source": [
    "wv_difference = (image_wv_nearir_lr - image_wv_ir)\n",
    "# YOUR CODE HERE\n",
    "raise NotImplementedError()"
   ]
  },
  {
   "cell_type": "markdown",
   "metadata": {},
   "source": [
    "## Question 9.2\n",
    "\n",
    "Write out your wv_difference image and using dump_image"
   ]
  },
  {
   "cell_type": "code",
   "execution_count": null,
   "metadata": {
    "deletable": false,
    "nbgrader": {
     "cell_type": "code",
     "checksum": "cb069339b07a20863e20ebda1a7213e2",
     "grade": false,
     "grade_id": "cell-522681e6dc7a236d",
     "locked": false,
     "schema_version": 2,
     "solution": true
    }
   },
   "outputs": [],
   "source": [
    "from a301.geometry import dump_image, area_def_to_dict\n",
    "image_name='wv_difference'\n",
    "# YOUR CODE HERE\n",
    "raise NotImplementedError()"
   ]
  },
  {
   "cell_type": "markdown",
   "metadata": {},
   "source": [
    "### Here is the test that autograder will run\n",
    "\n",
    "Copy this code in a new cell and make sure it passes the test (i.e. doesn't complain)\n",
    "This is what autograder will run automatically"
   ]
  },
  {
   "cell_type": "code",
   "execution_count": null,
   "metadata": {
    "deletable": false,
    "editable": false,
    "nbgrader": {
     "cell_type": "code",
     "checksum": "7119febc49bdf8abd2ac04dbec023c4a",
     "grade": true,
     "grade_id": "cell-f7a3d2999f2dabf4",
     "locked": true,
     "points": 5,
     "schema_version": 2,
     "solution": false
    }
   },
   "outputs": [],
   "source": [
    "from a301.geometry import get_image\n",
    "#\n",
    "# read back the image and the area_def\n",
    "#\n",
    "foldername= a301.map_dir / Path('wv_maps')\n",
    "image_array_name='wv_difference'\n",
    "image_array,area_def=get_image(foldername,image_array_name)\n",
    "#\n",
    "# make sure the area_def and image sizes agree\n",
    "#\n",
    "area_def_size=(area_def.y_size,area_def.x_size)\n",
    "image_size=image_array.shape\n",
    "assert(area_def_size == image_size)"
   ]
  }
 ],
 "metadata": {
  "anaconda-cloud": {},
  "kernelspec": {
   "display_name": "Python 3",
   "language": "python",
   "name": "python3"
  },
  "language_info": {
   "codemirror_mode": {
    "name": "ipython",
    "version": 3
   },
   "file_extension": ".py",
   "mimetype": "text/x-python",
   "name": "python",
   "nbconvert_exporter": "python",
   "pygments_lexer": "ipython3",
   "version": "3.6.6"
  },
  "toc": {
   "base_numbering": 1,
   "nav_menu": {},
   "number_sections": true,
   "sideBar": false,
   "skip_h1_title": false,
   "title_cell": "Table of Contents",
   "title_sidebar": "Contents",
   "toc_cell": true,
   "toc_position": {},
   "toc_section_display": true,
   "toc_window_display": false
  }
 },
 "nbformat": 4,
 "nbformat_minor": 1
}
