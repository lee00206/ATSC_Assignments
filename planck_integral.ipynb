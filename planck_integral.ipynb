{
 "cells": [
  {
   "cell_type": "markdown",
   "metadata": {
    "toc": true
   },
   "source": [
    "<h1>Table of Contents<span class=\"tocSkip\"></span></h1>\n",
    "<div class=\"toc\"><ul class=\"toc-item\"><li><span><a href=\"#Assignment-5-Planck-integral-problem\" data-toc-modified-id=\"Assignment-5-Planck-integral-problem-1\"><span class=\"toc-item-num\">1&nbsp;&nbsp;</span>Assignment 5 Planck integral problem</a></span></li><li><span><a href=\"#Answer----write-your-function-in-the-cell-below\" data-toc-modified-id=\"Answer----write-your-function-in-the-cell-below-2\"><span class=\"toc-item-num\">2&nbsp;&nbsp;</span>Answer -- write your function in the cell below</a></span></li></ul></div>"
   ]
  },
  {
   "cell_type": "markdown",
   "metadata": {},
   "source": [
    "### Assignment 5 Planck integral problem\n",
    "\n",
    "Following the apprach of the [derivs_and_ints notebook]([https://clouds.eos.ubc.ca/~phil/courses/atsc301/coursebuild/html/derivs_and_ints.html)\n",
    "\n",
    "Verify Stull equation 2.15:\n",
    "\n",
    " $$\\int_0^\\infty  E^*_\\lambda(T)d\\lambda   =\\int_0^\\infty \\frac{\\pi h c^2}{\\lambda^5 \\left [ \\exp (h c/(\\lambda k_B T )) -1 \\right ] } d\\lambda = \\int_0^\\infty \\frac{c_1}{\\lambda^5 \\left [ \\exp (c_2/(\\lambda T )) -1 \\right ] } d\\lambda  = \\sigma_{SB} T^4$$\n",
    " \n",
    "For a temperature of 300 K."
   ]
  },
  {
   "cell_type": "markdown",
   "metadata": {},
   "source": [
    "### Answer -- write your function in the cell below\n",
    "\n",
    "It can use [a301.radiation.Elambda](https://clouds.eos.ubc.ca/~phil/courses/atsc301/_modules/a301/radiation.html#Elambda)"
   ]
  },
  {
   "cell_type": "code",
   "execution_count": null,
   "metadata": {
    "deletable": false,
    "nbgrader": {
     "cell_type": "code",
     "checksum": "8a27066dd5598dccda4fc88510665e72",
     "grade": true,
     "grade_id": "cell-867d6cd3aae079d5",
     "locked": false,
     "points": 5,
     "schema_version": 2,
     "solution": true
    }
   },
   "outputs": [],
   "source": [
    "import numpy as np\n",
    "from matplotlib import pyplot as plt\n",
    "from a301.radiation import Elambda\n",
    "\n",
    "def planckint(wavelen_start,wavelen_stop,Temp,npoints=10000):\n",
    "    \"\"\"\n",
    "    Calculate the integrated blackbody radiant exitence (Stull 2.13)\n",
    "    between two wavelengths\n",
    "    \n",
    "    Parameters\n",
    "    ----------\n",
    "    \n",
    "      wavel_start: float\n",
    "            lower limit of integral (meters)\n",
    "            \n",
    "      wavel_stop: float\n",
    "            upper limit of integral (meters)\n",
    "           \n",
    "      Temp: float\n",
    "           temperature (K)\n",
    "           \n",
    "    Returns\n",
    "    -------\n",
    "    \n",
    "    Elambda:  float \n",
    "           integrated radiant fllux (W/m^2)\n",
    "    \"\"\"\n",
    "    # YOUR CODE HERE\n",
    "    raise NotImplementedError()"
   ]
  },
  {
   "cell_type": "markdown",
   "metadata": {},
   "source": [
    "Place your own tests in the cell below.  Remember that you can use\n",
    "    \n",
    "    numpy.testing.assert_almost_equal\n",
    "\n",
    "to check to see if your integral matches the $\\sigma T^4$ to x decimal places.  I will\n",
    "test for decimal=1, i.e. I will run:\n",
    "\n",
    "assert_almost_equal(your_answer, my_answer,decimal=1)"
   ]
  },
  {
   "cell_type": "code",
   "execution_count": null,
   "metadata": {},
   "outputs": [],
   "source": []
  }
 ],
 "metadata": {
  "anaconda-cloud": {},
  "kernelspec": {
   "display_name": "Python 3",
   "language": "python",
   "name": "python3"
  },
  "language_info": {
   "codemirror_mode": {
    "name": "ipython",
    "version": 3
   },
   "file_extension": ".py",
   "mimetype": "text/x-python",
   "name": "python",
   "nbconvert_exporter": "python",
   "pygments_lexer": "ipython3",
   "version": "3.6.6"
  },
  "toc": {
   "base_numbering": 1,
   "nav_menu": {},
   "number_sections": true,
   "sideBar": false,
   "skip_h1_title": false,
   "title_cell": "Table of Contents",
   "title_sidebar": "Contents",
   "toc_cell": true,
   "toc_position": {},
   "toc_section_display": true,
   "toc_window_display": false
  }
 },
 "nbformat": 4,
 "nbformat_minor": 1
}
