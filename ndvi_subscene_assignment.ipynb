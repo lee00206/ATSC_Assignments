{
 "cells": [
  {
   "cell_type": "markdown",
   "metadata": {
    "toc": true
   },
   "source": [
    "<h1>Table of Contents<span class=\"tocSkip\"></span></h1>\n",
    "<div class=\"toc\"><ul class=\"toc-item\"><li><span><a href=\"#Introduction\" data-toc-modified-id=\"Introduction-1\"><span class=\"toc-item-num\">1&nbsp;&nbsp;</span>Introduction</a></span></li><li><span><a href=\"#Get-bands-3,-4,-5-fullsize-(green,-red,-near-ir)\" data-toc-modified-id=\"Get-bands-3,-4,-5-fullsize-(green,-red,-near-ir)-2\"><span class=\"toc-item-num\">2&nbsp;&nbsp;</span>Get bands 3, 4, 5 fullsize (green, red, near-ir)</a></span></li><li><span><a href=\"#This-cell-reads-in-your-affine-transform,-metadata-and-profile\" data-toc-modified-id=\"This-cell-reads-in-your-affine-transform,-metadata-and-profile-3\"><span class=\"toc-item-num\">3&nbsp;&nbsp;</span>This cell reads in your affine transform, metadata and profile</a></span></li><li><span><a href=\"#This-cell-gets-the-right-reflection-function-for-your-satellite\" data-toc-modified-id=\"This-cell-gets-the-right-reflection-function-for-your-satellite-4\"><span class=\"toc-item-num\">4&nbsp;&nbsp;</span>This cell gets the right reflection function for your satellite</a></span></li><li><span><a href=\"#Read-only-the-window-pixels-from-the-band-3,-4-files\" data-toc-modified-id=\"Read-only-the-window-pixels-from-the-band-3,-4-files-5\"><span class=\"toc-item-num\">5&nbsp;&nbsp;</span>Read only the window pixels from the band 3, 4 files</a></span></li><li><span><a href=\"#In-the-next-cell-plot-a-mapped-ndvi-image-with-a-red-dot-in-your-ul-corner-and-a-white-dot-in-your-lr-corner\" data-toc-modified-id=\"In-the-next-cell-plot-a-mapped-ndvi-image-with-a-red-dot-in-your-ul-corner-and-a-white-dot-in-your-lr-corner-6\"><span class=\"toc-item-num\">6&nbsp;&nbsp;</span>In the next cell plot a mapped ndvi image with a red dot in your ul corner and a white dot in your lr corner</a></span></li></ul></div>"
   ]
  },
  {
   "cell_type": "markdown",
   "metadata": {
    "deletable": false,
    "editable": false,
    "nbgrader": {
     "checksum": "f2a725f0a6df3133cdabba9891cf2e7a",
     "grade": false,
     "grade_id": "cell-f686910c4b34f225",
     "locked": true,
     "schema_version": 1,
     "solution": false
    }
   },
   "source": [
    "# Introduction\n",
    "\n",
    "There are 4 cells that ask for changes below, the rest should run as long as you\n",
    "use the variable names I ask for in the questions."
   ]
  },
  {
   "cell_type": "code",
   "execution_count": null,
   "metadata": {
    "deletable": false,
    "editable": false,
    "nbgrader": {
     "checksum": "ae40f07b9f3fc25eb3d3b6a8cdf9931d",
     "grade": false,
     "grade_id": "cell-a3f4e924ca02ab89",
     "locked": true,
     "schema_version": 1,
     "solution": false
    }
   },
   "outputs": [],
   "source": [
    "import rasterio\n",
    "import a301\n",
    "import numpy as np\n",
    "from matplotlib import pyplot as plt\n",
    "from matplotlib.colors import Normalize\n",
    "from a301.landsat.landsat_metadata import landsat_metadata\n",
    "import cartopy\n",
    "from rasterio.windows import Window\n",
    "from pyproj import transform as proj_transform\n",
    "from pyproj import Proj\n",
    "from a301.landsat.toa_reflectance import calc_reflc_8\n",
    "import pprint\n",
    "from a301.utils.data_read import download\n",
    "from pathlib import Path\n",
    "from affine import Affine\n",
    "from IPython.display import Image\n",
    "from a301.landsat.toa_reflectance import calc_refl_457, calc_reflc_8\n",
    "from mpl_toolkits.axes_grid1 import make_axes_locatable\n"
   ]
  },
  {
   "cell_type": "markdown",
   "metadata": {
    "deletable": false,
    "editable": false,
    "nbgrader": {
     "checksum": "a6a0b678fee374f8fd780af2e8212534",
     "grade": false,
     "grade_id": "cell-b700b41e2d83fe79",
     "locked": true,
     "schema_version": 1,
     "solution": false
    }
   },
   "source": [
    "# Get bands 3, 4, 5 fullsize (green, red, near-ir)\n",
    "\n",
    "At the end of this cell you shiould have the following path objects for your spring scene:\n",
    "\n",
    "meta_bigfile, band3_bigfile, band4_bigfile, band5_bigfile\n",
    "\n",
    "that point to your landsat TIF and mtl.txt files."
   ]
  },
  {
   "cell_type": "code",
   "execution_count": null,
   "metadata": {
    "deletable": false,
    "nbgrader": {
     "checksum": "bd530dfcc0915ef07f406d66a6e9ab19",
     "grade": true,
     "grade_id": "cell-8d3705a4a6fbb7bc",
     "locked": false,
     "points": 5,
     "schema_version": 1,
     "solution": true
    }
   },
   "outputs": [],
   "source": [
    "# YOUR CODE HERE\n",
    "raise NotImplementedError()"
   ]
  },
  {
   "cell_type": "markdown",
   "metadata": {
    "deletable": false,
    "editable": false,
    "nbgrader": {
     "checksum": "9fb67423f53a74e6d0938fdc11b576f9",
     "grade": false,
     "grade_id": "cell-dd09edb695c92076",
     "locked": true,
     "schema_version": 1,
     "solution": false
    }
   },
   "source": [
    "# This cell reads in your affine transform, metadata and profile\n",
    "\n",
    "Using band4_bigfile (arbitrary)"
   ]
  },
  {
   "cell_type": "code",
   "execution_count": null,
   "metadata": {
    "deletable": false,
    "editable": false,
    "nbgrader": {
     "checksum": "fd9b887e24b2e779a87e86343a481929",
     "grade": false,
     "grade_id": "cell-daebc17375c70921",
     "locked": true,
     "schema_version": 1,
     "solution": false
    }
   },
   "outputs": [],
   "source": [
    "metadata=landsat_metadata(meta_bigfile)\n",
    "with rasterio.open(band4_bigfile) as raster:\n",
    "    big_transform=raster.transform\n",
    "    big_profile=raster.profile\n",
    "\n",
    "zone = metadata.UTM_ZONE  \n",
    "crs = cartopy.crs.UTM(zone, southern_hemisphere=False)\n",
    "p_utm=Proj(crs.proj4_init)\n",
    "p_lonlat=Proj(proj='latlong',datum='WGS84')"
   ]
  },
  {
   "cell_type": "markdown",
   "metadata": {
    "deletable": false,
    "editable": false,
    "nbgrader": {
     "checksum": "180ccc2ae48fe00624463a632c2ba4c5",
     "grade": false,
     "grade_id": "cell-cef7282b3b40dd6f",
     "locked": true,
     "schema_version": 1,
     "solution": false
    }
   },
   "source": [
    "# This cell gets the right reflection function for your satellite"
   ]
  },
  {
   "cell_type": "code",
   "execution_count": null,
   "metadata": {
    "deletable": false,
    "editable": false,
    "nbgrader": {
     "checksum": "a569fb135cf6d2c03c256eeb90dfc4cd",
     "grade": false,
     "grade_id": "cell-df3ceb3d365ce669",
     "locked": true,
     "schema_version": 1,
     "solution": false
    }
   },
   "outputs": [],
   "source": [
    "refl_dict={'LANDSAT_7':calc_refl_457,'LANDSAT_8':calc_reflc_8}         \n",
    "satellite=metadata.SPACECRAFT_ID\n",
    "refl_fun=refl_dict[satellite]"
   ]
  },
  {
   "cell_type": "markdown",
   "metadata": {
    "deletable": false,
    "editable": false,
    "nbgrader": {
     "checksum": "2a2e43c2bd396ec6c833132db854ff2e",
     "grade": false,
     "grade_id": "cell-175a34f2bd5cec2f",
     "locked": true,
     "schema_version": 1,
     "solution": false
    }
   },
   "source": [
    "# Define a subscene window and a transform\n",
    "\n",
    "In the cell below, get the upper left col,row (ul_col,ul_row) and upper left and lower\n",
    "right x,y (ul_x,ul_y,lr_x,lr_y)\n",
    "coordinates the upper left corner of \n",
    "your subscene as in the image_zoom notebook.  Use ul_col, ul_row, ul_x, ul_y plus your subscene\n",
    "width and height to make a rasterio window and new transform.\n",
    "\n",
    "    window=Window(ul_col, ul_row, small_width, small_height)\n",
    "    new_affine=Affine(30.,0.,ul_x,0.,-30.,ul_y)\n",
    "    extent = [ul_x,lr_x,lr_y,ul_y]\n"
   ]
  },
  {
   "cell_type": "code",
   "execution_count": null,
   "metadata": {
    "deletable": false,
    "nbgrader": {
     "checksum": "d2653ec0563ac7b9360aa2fea0b02ce1",
     "grade": true,
     "grade_id": "cell-5d894d6363b58394",
     "locked": false,
     "points": 10,
     "schema_version": 1,
     "solution": true
    }
   },
   "outputs": [],
   "source": [
    "# YOUR CODE HERE\n",
    "raise NotImplementedError()"
   ]
  },
  {
   "cell_type": "markdown",
   "metadata": {
    "deletable": false,
    "editable": false,
    "nbgrader": {
     "checksum": "6ca9ab84b73436d766da049854a344f8",
     "grade": false,
     "grade_id": "cell-cd9770b2c44fe58c",
     "locked": true,
     "schema_version": 1,
     "solution": false
    }
   },
   "source": [
    "# Read only the window pixels from the band 3, 4, 5 files"
   ]
  },
  {
   "cell_type": "code",
   "execution_count": null,
   "metadata": {
    "deletable": false,
    "editable": false,
    "nbgrader": {
     "checksum": "d69466c2596f10da196bc03b9eb018cf",
     "grade": false,
     "grade_id": "cell-3b8481e8992f8a6a",
     "locked": true,
     "schema_version": 1,
     "solution": false
    }
   },
   "outputs": [],
   "source": [
    "refl_dict=dict()\n",
    "for bandnum,filepath in zip([3,4,5],[band3_bigfile,band4_bigfile,band5_bigfile]):\n",
    "    with rasterio.open(filepath) as src:\n",
    "        counts = src.read(1, window=small_window)\n",
    "        refl_vals = refl_fun(counts,bandnum,metadata)\n",
    "        refl_dict[bandnum]=refl_vals"
   ]
  },
  {
   "cell_type": "markdown",
   "metadata": {
    "deletable": false,
    "editable": false,
    "nbgrader": {
     "checksum": "078d2a6849249fe57737cadb79c70f26",
     "grade": false,
     "grade_id": "cell-f4c6415f2226afe9",
     "locked": true,
     "schema_version": 1,
     "solution": false
    }
   },
   "source": [
    "# In the next cell calculate your ndvi\n",
    "\n",
    "Save it in a variable called ndvi"
   ]
  },
  {
   "cell_type": "code",
   "execution_count": null,
   "metadata": {
    "deletable": false,
    "nbgrader": {
     "checksum": "8046e7b4f1d3ba44bc68a6b8295cba36",
     "grade": true,
     "grade_id": "cell-6589d24a5ba25504",
     "locked": false,
     "points": 2,
     "schema_version": 1,
     "solution": true
    }
   },
   "outputs": [],
   "source": [
    "# YOUR CODE HERE\n",
    "raise NotImplementedError()"
   ]
  },
  {
   "cell_type": "code",
   "execution_count": null,
   "metadata": {
    "deletable": false,
    "editable": false,
    "nbgrader": {
     "checksum": "1135f8a462ba4944dd8960243e8adb96",
     "grade": false,
     "grade_id": "cell-bad1a69cdb6fa35c",
     "locked": true,
     "schema_version": 1,
     "solution": false
    }
   },
   "outputs": [],
   "source": [
    "plt.hist(ndvi[~np.isnan(ndvi)].flat);\n",
    "plt.title('spring ndvi')\n",
    "plt.savefig('spring_ndvi.png')"
   ]
  },
  {
   "cell_type": "markdown",
   "metadata": {
    "deletable": false,
    "editable": false,
    "nbgrader": {
     "checksum": "08629247dda3c3fd3ed08bdd0ef88ef5",
     "grade": false,
     "grade_id": "cell-b68f0e3d1ae9ea4d",
     "locked": true,
     "schema_version": 1,
     "solution": false
    }
   },
   "source": [
    "# In the next cell plot a mapped ndvi image with a red dot in your ul corner and a white dot in your lr corner\n",
    "\n",
    "Adjust this plot to fit your image.  Just delete the bottom line and work with the provided commands"
   ]
  },
  {
   "cell_type": "code",
   "execution_count": null,
   "metadata": {
    "deletable": false,
    "nbgrader": {
     "checksum": "d88915acfe68c876b24640af663ce1f0",
     "grade": true,
     "grade_id": "cell-49219670aafdaf44",
     "locked": false,
     "points": 5,
     "schema_version": 1,
     "solution": true
    }
   },
   "outputs": [],
   "source": [
    "vmin=0.0\n",
    "vmax=0.8\n",
    "the_norm=Normalize(vmin=vmin,vmax=vmax,clip=False)\n",
    "palette='viridis'\n",
    "pal = plt.get_cmap(palette)\n",
    "pal.set_bad('0.75') #75% grey for out-of-map cells\n",
    "pal.set_over('w')  #color cells > vmax red\n",
    "pal.set_under('k')  #color cells < vmin black\n",
    "fig, ax = plt.subplots(1, 1,figsize=[10,15],\n",
    "                       subplot_kw={'projection': crs})\n",
    "col=ax.imshow(ndvi,origin=\"upper\",\n",
    "         extent=extent,transform=crs)\n",
    "ax.plot(ul_x,ul_y,'ro',markersize=50)\n",
    "ax.plot(lr_x,lr_y,'wo',markersize=50)\n",
    "ax.set(title=\"spring ndvi\")\n",
    "cbar_ax = fig.add_axes([0.95, 0.2, 0.05, 0.6])\n",
    "cbar=ax.figure.colorbar(col,extend='both',cax=cbar_ax,orientation='vertical')\n",
    "cbar.set_label('ndvi index')\n",
    "# YOUR CODE HERE\n",
    "raise NotImplementedError()"
   ]
  }
 ],
 "metadata": {
  "kernelspec": {
   "display_name": "Python 3",
   "language": "python",
   "name": "python3"
  },
  "language_info": {
   "codemirror_mode": {
    "name": "ipython",
    "version": 3
   },
   "file_extension": ".py",
   "mimetype": "text/x-python",
   "name": "python",
   "nbconvert_exporter": "python",
   "pygments_lexer": "ipython3",
   "version": "3.6.6"
  },
  "toc": {
   "base_numbering": 1,
   "nav_menu": {},
   "number_sections": true,
   "sideBar": false,
   "skip_h1_title": false,
   "title_cell": "Table of Contents",
   "title_sidebar": "Contents",
   "toc_cell": true,
   "toc_position": {},
   "toc_section_display": true,
   "toc_window_display": false
  }
 },
 "nbformat": 4,
 "nbformat_minor": 2
}
