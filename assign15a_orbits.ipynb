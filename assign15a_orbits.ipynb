{
 "cells": [
  {
   "cell_type": "markdown",
   "metadata": {
    "toc": true
   },
   "source": [
    "<h1>Table of Contents<span class=\"tocSkip\"></span></h1>\n",
    "<div class=\"toc\"><ul class=\"toc-item\"><li><span><a href=\"#Introduction\" data-toc-modified-id=\"Introduction-1\"><span class=\"toc-item-num\">1&nbsp;&nbsp;</span>Introduction</a></span></li><li><span><a href=\"#15A.-Satellite-question\" data-toc-modified-id=\"15A.-Satellite-question-2\"><span class=\"toc-item-num\">2&nbsp;&nbsp;</span>15A. Satellite question</a></span></li><li><span><a href=\"#My-answer\" data-toc-modified-id=\"My-answer-3\"><span class=\"toc-item-num\">3&nbsp;&nbsp;</span>My answer</a></span></li></ul></div>"
   ]
  },
  {
   "cell_type": "code",
   "execution_count": 1,
   "metadata": {},
   "outputs": [],
   "source": [
    "from IPython.display import Image"
   ]
  },
  {
   "cell_type": "markdown",
   "metadata": {},
   "source": [
    "# Introduction\n",
    "\n",
    "Practice using cartopy to plot the orbit for your cloudsat granule, with\n",
    "your storm highlighted in blue."
   ]
  },
  {
   "cell_type": "code",
   "execution_count": 2,
   "metadata": {},
   "outputs": [],
   "source": [
    "from importlib import reload\n",
    "import numpy as np\n",
    "import datetime as dt\n",
    "from datetime import timezone as tz\n",
    "from matplotlib import pyplot as plt\n",
    "import pyproj\n",
    "from numpy import ma\n",
    "import a301\n",
    "from a301.cloudsat import get_geo\n",
    "from pathlib import Path\n",
    "#\n",
    "# new functions to read vdata and sds arrays\n",
    "#\n",
    "from a301.cloudsat import HDFvd_read, HDFsd_read\n",
    "plt.style.use('ggplot')"
   ]
  },
  {
   "cell_type": "markdown",
   "metadata": {},
   "source": [
    "# 15A. Satellite question\n",
    "\n",
    "In the cell below read in lats and lons for your orbit (from any of your hdf files) and plot\n",
    "the entire orbit as a series of red dots, with the storm segment\n",
    "plotted in blue dots, the orbit start as a cyan dot, and the orbit end as a black dot, as\n",
    "shown in the example image at the bottom of the page.\n",
    "Use a cartopy ccrs.PlateCarree projection, and\n",
    "consult the [cartopy_mapping_pyproj](https://clouds.eos.ubc.ca/~phil/courses/atsc301/coursebuild/html/cartopy_mapping_pyproj.html) notebook for how to use projection.transform_points to get the x,y coorinates for the\n",
    "orbit.\n",
    "\n",
    "**Hand in a converted html version of this notebook**"
   ]
  },
  {
   "cell_type": "code",
   "execution_count": 3,
   "metadata": {
    "deletable": false,
    "nbgrader": {
     "cell_type": "code",
     "checksum": "d82d14403e8b494e05d50167153a7640",
     "grade": true,
     "grade_id": "cell-2dc6f76583c52578",
     "locked": false,
     "points": 5,
     "schema_version": 2,
     "solution": true
    }
   },
   "outputs": [
    {
     "ename": "NotImplementedError",
     "evalue": "",
     "output_type": "error",
     "traceback": [
      "\u001b[0;31m--------------------------------------------------------------------\u001b[0m",
      "\u001b[0;31mNotImplementedError\u001b[0m                Traceback (most recent call last)",
      "\u001b[0;32m<ipython-input-3-d13330f04d43>\u001b[0m in \u001b[0;36m<module>\u001b[0;34m\u001b[0m\n\u001b[1;32m      8\u001b[0m \u001b[0mlons\u001b[0m\u001b[0;34m=\u001b[0m\u001b[0mlons\u001b[0m\u001b[0;34m.\u001b[0m\u001b[0msqueeze\u001b[0m\u001b[0;34m(\u001b[0m\u001b[0;34m)\u001b[0m\u001b[0;34m\u001b[0m\u001b[0m\n\u001b[1;32m      9\u001b[0m \u001b[0;31m# YOUR CODE HERE\u001b[0m\u001b[0;34m\u001b[0m\u001b[0;34m\u001b[0m\u001b[0m\n\u001b[0;32m---> 10\u001b[0;31m \u001b[0;32mraise\u001b[0m \u001b[0mNotImplementedError\u001b[0m\u001b[0;34m(\u001b[0m\u001b[0;34m)\u001b[0m\u001b[0;34m\u001b[0m\u001b[0m\n\u001b[0m",
      "\u001b[0;31mNotImplementedError\u001b[0m: "
     ]
    }
   ],
   "source": [
    "import pdb\n",
    "#\n",
    "# get lats and lons from the 2C-RAIN file\n",
    "#\n",
    "hr_file= list(a301.test_dir.glob('*2C-RAIN*hdf'))[0]\n",
    "lats,lons,date_times,prof_times,dem_elevation=get_geo(hr_file)\n",
    "lats=lats.squeeze()\n",
    "lons=lons.squeeze()\n",
    "# YOUR CODE HERE\n",
    "#raise NotImplementedError()\n"
   ]
  },
  {
   "cell_type": "markdown",
   "metadata": {},
   "source": [
    "# My answer\n",
    "\n",
    "Your plot should look something like this:"
   ]
  },
  {
   "cell_type": "code",
   "execution_count": 4,
   "metadata": {},
   "outputs": [
    {
     "data": {
      "text/html": [
       "<img src=\"https://clouds.eos.ubc.ca/~phil/courses/atsc301/downloads/orbit_15.png\"/>"
      ],
      "text/plain": [
       "<IPython.core.display.Image object>"
      ]
     },
     "execution_count": 4,
     "metadata": {},
     "output_type": "execute_result"
    }
   ],
   "source": [
    "Image(url=\"https://clouds.eos.ubc.ca/~phil/courses/atsc301/downloads/orbit_15.png\")"
   ]
  },
  {
   "cell_type": "code",
   "execution_count": null,
   "metadata": {},
   "outputs": [],
   "source": []
  }
 ],
 "metadata": {
  "anaconda-cloud": {},
  "kernelspec": {
   "display_name": "Python 3",
   "language": "python",
   "name": "python3"
  },
  "language_info": {
   "codemirror_mode": {
    "name": "ipython",
    "version": 3
   },
   "file_extension": ".py",
   "mimetype": "text/x-python",
   "name": "python",
   "nbconvert_exporter": "python",
   "pygments_lexer": "ipython3",
   "version": "3.6.6"
  },
  "toc": {
   "base_numbering": 1,
   "nav_menu": {},
   "number_sections": true,
   "sideBar": false,
   "skip_h1_title": false,
   "title_cell": "Table of Contents",
   "title_sidebar": "Contents",
   "toc_cell": true,
   "toc_position": {},
   "toc_section_display": true,
   "toc_window_display": false
  }
 },
 "nbformat": 4,
 "nbformat_minor": 1
}
